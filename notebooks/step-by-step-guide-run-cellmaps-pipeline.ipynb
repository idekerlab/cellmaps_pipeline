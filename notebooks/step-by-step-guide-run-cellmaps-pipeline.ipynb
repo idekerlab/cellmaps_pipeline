{
 "cells": [
  {
   "cell_type": "markdown",
   "id": "93c29ba2-a583-4195-b58e-bf6c026c1a76",
   "metadata": {},
   "source": [
    "# Step-by-step Guide: Running Cellmaps Pipeline"
   ]
  },
  {
   "cell_type": "markdown",
   "id": "d656a178-845c-40c6-94b7-c499872e5235",
   "metadata": {},
   "source": [
    "### Installation\n",
    "\n",
    "It is highly recommended to create conda virtual environment and run jupyter from there.\n",
    "\n",
    "`conda create -n cm4ai python=3.8`\n",
    "\n",
    "`conda activate cm4ai`\n",
    "\n",
    "To install Cellmaps Pipeline run:\n",
    "\n",
    "`pip install cellmaps_pipeline`"
   ]
  },
  {
   "cell_type": "markdown",
   "id": "76e8b137-2123-4278-8c8a-0e7f4afec635",
   "metadata": {
    "tags": []
   },
   "source": [
    "### Input Data\n",
    "\n",
    "The cell maps pipeline requires the following input files for building MuSIC maps by integrating IF images with an AP-MS interaction network:\n",
    "\n",
    "- samples file: CSV file with list of IF images to download (see sample samples file in examples folder)\n",
    "\n",
    "- unique file: CSV file of unique samples (see sample unique file in examples folder)\n",
    "\n",
    "- bait list file: TSV file of baits used for AP-MS experiments\n",
    "\n",
    "- edge list file: TSV file of edges for protein interaction network\n",
    "\n",
    "- provenance: file containing provenance information about input files in JSON format (see sample provenance file in examples folder, or create one directly as described above)"
   ]
  },
  {
   "cell_type": "markdown",
   "id": "aeac0728-059f-416b-935a-82e202696e92",
   "metadata": {
    "tags": []
   },
   "source": [
    "## Step 1: Download ImmunoFluorescent image data\n",
    "\n",
    "Detailed documentation available [here](https://cellmaps-imagedownloader.readthedocs.io/)."
   ]
  },
  {
   "cell_type": "code",
   "execution_count": null,
   "id": "a189ce07-23a9-49a6-9d23-0d9259ca2249",
   "metadata": {
    "tags": []
   },
   "outputs": [],
   "source": [
    "from cellmaps_imagedownloader.runner import CellmapsImageDownloader\n",
    "from cellmaps_imagedownloader.runner import MultiProcessImageDownloader\n",
    "from cellmaps_imagedownloader.gene import ImageGeneNodeAttributeGenerator as IGen \n",
    "from cellmaps_imagedownloader.proteinatlas import ProteinAtlasReader, ProteinAtlasImageUrlReader, ImageDownloadTupleGenerator\n",
    "import json\n",
    "\n",
    "u_list = IGen.get_unique_list_from_csvfile('../examples/unique.csv')\n",
    "s_list=IGen.get_samples_from_csvfile('../examples/samples.csv')\n",
    "with open('../examples/provenance.json', 'r') as f:\n",
    "    json_prov = json.load(f)\n",
    "\n",
    "imagegen = IGen(unique_list=u_list, samples_list=s_list)\n",
    "\n",
    "outdir='1.image_download'\n",
    "dloader = MultiProcessImageDownloader(poolsize=4)\n",
    "proteinatlas_reader = ProteinAtlasReader(outdir)\n",
    "proteinatlas_urlreader = ProteinAtlasImageUrlReader(reader=proteinatlas_reader)\n",
    "imageurlgen = ImageDownloadTupleGenerator(reader=proteinatlas_urlreader,\n",
    "                                          samples_list=imagegen.get_samples_list(),\n",
    "                                          valid_image_ids=imagegen.get_samples_list_image_ids())\n",
    "\n",
    "x = CellmapsImageDownloader(outdir=outdir, imagedownloader=dloader, imgsuffix='.jpg', imagegen=imagegen, \n",
    "                            imageurlgen=imageurlgen, provenance=json_prov)\n",
    "x.run()"
   ]
  },
  {
   "cell_type": "markdown",
   "id": "83a25712-58ef-4748-acdd-46639612ad74",
   "metadata": {
    "tags": []
   },
   "source": [
    "#### Main Outputs\n",
    "\n",
    "* `1_image_gene_node_attributes.tsv`:\n",
    "A TSV file containing attributes for image genes generated during the first fold of execution. 2_image_gene_node_attributes.tsv corresponds to the second fold of execution etc.\n",
    "\n",
    "```\n",
    "name        represents      ambiguous       antibody        filename        imageurl\n",
    "UHRF2       ensembl:ENSG00000147854         HPA026633       B2AI_1_untreated_D2_R5_ no image url found\n",
    "TET3        ensembl:ENSG00000187605         HPA050845       B2AI_1_untreated_E5_R5_ no image url found\n",
    "HDAC6       ensembl:ENSG00000094631         HPA003714       B2AI_1_untreated_G3_R5_ no image url found\n",
    "HDAC3       ensembl:ENSG00000171720         HPA052052       B2AI_1_untreated_D3_R7_ no image url found\n",
    "```\n",
    "\n",
    "* `blue`, `red`, `green`, `yellow`:\n",
    "Directories containing downloaded images in different color spectrum."
   ]
  },
  {
   "cell_type": "markdown",
   "id": "a19537b6-3d42-4e21-9519-083337026656",
   "metadata": {},
   "source": [
    "## Step 2: Download Affinity-Purification mass spectrometry (AP-MS) data as a Protein-Protein Interaction network\n",
    "\n",
    "Detailed documentation available [here](https://cellmaps-ppidownloader.readthedocs.io/)."
   ]
  },
  {
   "cell_type": "code",
   "execution_count": null,
   "id": "b8e08d64-09af-4a4b-bf68-22d620274a55",
   "metadata": {},
   "outputs": [],
   "source": [
    "from cellmaps_ppidownloader.runner import CellmapsPPIDownloader\n",
    "from cellmaps_ppidownloader.gene import APMSGeneNodeAttributeGenerator\n",
    "\n",
    "with open('../examples/provenance.json', 'r') as f:\n",
    "    json_prov = json.load(f)\n",
    "\n",
    "apmsgen = APMSGeneNodeAttributeGenerator(\n",
    "    apms_edgelist=APMSGeneNodeAttributeGenerator.get_apms_edgelist_from_tsvfile('../examples/edgelist.tsv'),\n",
    "    apms_baitlist=APMSGeneNodeAttributeGenerator.get_apms_baitlist_from_tsvfile('../examples/baitlist.tsv'))\n",
    "\n",
    "x = CellmapsPPIDownloader(outdir='1.ppi_download', apmsgen=apmsgen, provenance=json_prov, input_data_dict={})\n",
    "x.run()"
   ]
  },
  {
   "cell_type": "markdown",
   "id": "81aa8f13-bb5a-4c1e-8412-117f03e113e5",
   "metadata": {
    "tags": []
   },
   "source": [
    "#### Main Outputs\n",
    "\n",
    "* `ppi_edgelist.tsv`:\n",
    "A processed edge list file which represents protein-protein interactions, where proteins are identified by their symbols.\n",
    "\n",
    "```\n",
    "geneA       geneB\n",
    "DNMT3A      SAP18\n",
    "DNMT3A      DDX3X\n",
    "DNMT3A      SEC16A\n",
    "DNMT3A      U2SURP\n",
    "DNMT3A      SYNJ2\n",
    "```\n",
    "\n",
    "* `ppi_gene_node_attributes.tsv`:\n",
    "Contains attributes for each gene node in the protein-protein interaction network. This includes information like gene names, ensembl ID, and other relevant data.\n",
    "\n",
    "```\n",
    "name        represents      ambiguous       bait\n",
    "DNMT3A      ensembl:ENSG00000119772         TRUE\n",
    "HDAC2       ensembl:ENSG00000196591         TRUE\n",
    "KDM6A       ensembl:ENSG00000147050         TRUE\n",
    "SMARCA4     ensembl:ENSG00000127616         TRUE\n",
    "```"
   ]
  },
  {
   "cell_type": "markdown",
   "id": "fbf4e5bf-2588-4694-ad19-2001cee6191a",
   "metadata": {},
   "source": [
    "## Step 3: Generate embeddings from ImmunoFluorescent image data\n",
    "\n",
    "Detailed documentation available [here](https://cellmaps-image-embedding.readthedocs.io/)."
   ]
  },
  {
   "cell_type": "code",
   "execution_count": null,
   "id": "ef99fbdf-16d1-47f6-8540-c7da2acdd0e1",
   "metadata": {},
   "outputs": [],
   "source": [
    "from cellmaps_image_embedding.runner import CellmapsImageEmbedder\n",
    "from cellmaps_image_embedding.runner import DensenetEmbeddingGenerator\n",
    "import os\n",
    "\n",
    "model_path = 'https://github.com/CellProfiling/densenet/releases/download/v0.1.0/external_crop512_focal_slov_hardlog_class_densenet121_dropout_i768_aug2_5folds_fold0_final.pth'\n",
    "outdir = '2.image_embedding'\n",
    "inputdir = '1.image_download'\n",
    "gen = DensenetEmbeddingGenerator(os.path.abspath(inputdir),\n",
    "                                 outdir=os.path.abspath(outdir),\n",
    "                                 model_path=model_path,\n",
    "                                 fold=1)\n",
    "x = CellmapsImageEmbedder(outdir=outdir,\n",
    "                         inputdir=inputdir,\n",
    "                         embedding_generator=gen)\n",
    "x.run()"
   ]
  },
  {
   "cell_type": "markdown",
   "id": "7955228a-0a2c-4cfe-916b-0b6ecde2b387",
   "metadata": {
    "jp-MarkdownHeadingCollapsed": true,
    "tags": []
   },
   "source": [
    "#### Main Outputs\n",
    "\n",
    "* `image_emd.tsv`:\n",
    "A tab-separated file containing the generated embeddings for each image. Each row corresponds to an image and the subsequent columns contain the embedding vector.\n",
    "\n",
    "```\n",
    "        1   2       3       4\n",
    "BPTF        -0.037030112    -0.139459819    0.417184144     0.386600941\n",
    "KAT2B       0.02969132      -0.139459819    -0.038685802    0.136547908\n",
    "PARP1       -0.037030112    -0.139459819    0.540370524     0.119614214\n",
    "MSL1        0.18169874      -0.139459819    -0.038685802    0.152157351\n",
    "KAT6B       -0.037030112    -0.139459819    0.308141887     0.257056117\n",
    "```\n",
    "\n",
    "*`labels_prob.tsv`:\n",
    "This tab-separated file contains probability scores for each of the 28 possible protein labels (e.g., Nucleoplasm, N. membrane, etc.) for each image.\n",
    "\n",
    "```\n",
    "    Nucleoplasm     N. membrane     Nucleoli        N. fibrillar c.\n",
    "BPTF        0.740698278     0.270941526     0.147179633     0.149313971\n",
    "KAT2B       0.38626197      0.092356719     0.36738047      0.238842875\n",
    "PARP1       0.596435964     0.100168504     0.382214785     0.179471999\n",
    "MSL1        0.195862561     0.01370267      0.101418771     0.038516384\n",
    "KAT6B       0.606423676     0.101763181     0.337655455     0.201311186\n",
    "```\n",
    "\n",
    "* `model.pth`:\n",
    "The pre-trained Densenet model used for image embedding.\n",
    "\n",
    "* `blue_resize`, `green_resize`, `red_resize`, `yellow_resize`: This directory contains images that are processed in the given channel."
   ]
  },
  {
   "cell_type": "markdown",
   "id": "ab5f24bf-9495-4878-a128-f19bd1e45897",
   "metadata": {},
   "source": [
    "## Step 4: Generate embeddings from Protein-Protein interaction networks\n",
    "\n",
    "Detailed documentation available [here](https://cellmaps-ppi-embedding.readthedocs.io/)."
   ]
  },
  {
   "cell_type": "code",
   "execution_count": null,
   "id": "912abc12-e899-4052-919d-0b57dcbb9d77",
   "metadata": {},
   "outputs": [],
   "source": [
    "from cellmaps_ppi_embedding.runner import Node2VecEmbeddingGenerator\n",
    "from cellmaps_ppi_embedding.runner import CellMapsPPIEmbedder\n",
    "import networkx as nx\n",
    "\n",
    "inputdir = '1.ppi_download'\n",
    "outdir = '2.ppi_embedding'\n",
    "gen = Node2VecEmbeddingGenerator(nx_network=nx.read_edgelist(CellMapsPPIEmbedder.get_apms_edgelist_file(inputdir),\n",
    "                                                             delimiter='\\t'))\n",
    "\n",
    "x =CellMapsPPIEmbedder(outdir=outdir,\n",
    "                       embedding_generator=gen,\n",
    "                      inputdir=inputdir)\n",
    "x.run()"
   ]
  },
  {
   "cell_type": "markdown",
   "id": "9cff4499-8bc6-4d8a-b298-d24e1237cc8c",
   "metadata": {
    "jp-MarkdownHeadingCollapsed": true,
    "tags": []
   },
   "source": [
    "#### Main Outputs\n",
    "\n",
    "* `ppi_emd.tsv`:\n",
    "A TSV file that contains the embeddings for the protein-protein interactions (PPIs). The first column consists of gene names, followed by the embedding vectors in subsequent columns.\n",
    "\n",
    "```\n",
    "        1   2       3       4\n",
    "HDAC2       0.00322267      0.068772331     0.087871492     0.074549779\n",
    "SMARCA4     0.014913903     -0.025018152    -0.01334604     -0.050020121\n",
    "DNMT3A      0.030166976     0.082494646     0.083659336     -0.005459526\n",
    "KDM6A       0.058055822     0.151974067     0.122265264     0.057505969\n",
    "RPS4X       0.016731756     0.046027087     0.041698962     0.010518731\n",
    "```"
   ]
  },
  {
   "cell_type": "markdown",
   "id": "574ca651-593c-4cc1-842b-38dbd839c16e",
   "metadata": {},
   "source": [
    "## Step 5: Generate co-embedding from image and Protein-Protein Interaction (PPI) embeddings\n",
    "\n",
    "Detailed documentation available [here](https://cellmaps-coembedding.readthedocs.io/)."
   ]
  },
  {
   "cell_type": "code",
   "execution_count": null,
   "id": "b4e67f4c-362f-4a96-937e-ec8b9108175f",
   "metadata": {},
   "outputs": [],
   "source": [
    "from cellmaps_coembedding.runner import MuseCoEmbeddingGenerator\n",
    "from cellmaps_coembedding.runner import CellmapsCoEmbedder\n",
    "\n",
    "ppi_embeddingdir = '2.ppi_embedding'\n",
    "image_embeddingdir = '2.image_embedding'\n",
    "outdir = '3.coembedding'\n",
    "gen = MuseCoEmbeddingGenerator(ppi_embeddingdir=ppi_embeddingdir,\n",
    "                               image_embeddingdir=image_embeddingdir,\n",
    "                               outdir=os.path.abspath(outdir))\n",
    "\n",
    "x = CellmapsCoEmbedder(outdir=outdir,\n",
    "                      inputdirs=[ppi_embeddingdir, image_embeddingdir],\n",
    "                      embedding_generator=gen)\n",
    "x.run()"
   ]
  },
  {
   "cell_type": "markdown",
   "id": "fdcb218e-25d4-4146-a200-34921bb454e9",
   "metadata": {
    "jp-MarkdownHeadingCollapsed": true,
    "tags": []
   },
   "source": [
    "#### Main Outputs\n",
    "\n",
    "* `coembedding_emd.tsv`:\n",
    "This file represents the co-embedding of Protein-Protein Interaction (PPI) and image embeddings. The first column contains identifiers (either gene symbols or sample IDs) while the subsequent columns contain embedding values.\n",
    "\n",
    "```\n",
    "        1   2       3       4\n",
    "AURKB       -0.06713819     -0.027032608    -0.117943764    -0.14860943\n",
    "BAZ1B       0.100407355     0.1299548       -0.011916596    0.02393107\n",
    "BRD7        0.07245989      0.12707146      -0.000744308    0.023155764\n",
    "CBX3        -0.115645304    -0.1549612      -0.08860879     -0.038656197\n",
    "CHD1        0.016580202     0.11743456      -0.009839832    -0.008252605\n",
    "```"
   ]
  },
  {
   "cell_type": "markdown",
   "id": "35fd1ef1-da6b-47cf-8621-645a498fccf8",
   "metadata": {},
   "source": [
    "## Step 6: Generate hierarchy from coembeddings using HiDeF.\n",
    "\n",
    "Detailed documentation available [here](https://cellmaps-generate-hierarchy.readthedocs.io/)."
   ]
  },
  {
   "cell_type": "code",
   "execution_count": null,
   "id": "cd2687c5-5bbe-433f-a799-2e2a149a7023",
   "metadata": {},
   "outputs": [],
   "source": [
    "from cellmaps_generate_hierarchy.ppi import CosineSimilarityPPIGenerator\n",
    "from cellmaps_generate_hierarchy.hierarchy import CDAPSHiDeFHierarchyGenerator\n",
    "from cellmaps_generate_hierarchy.maturehierarchy import HiDeFHierarchyRefiner\n",
    "from cellmaps_generate_hierarchy.hcx import HCXFromCDAPSCXHierarchy\n",
    "from cellmaps_generate_hierarchy.runner import CellmapsGenerateHierarchy\n",
    "\n",
    "inputdir = '3.coembedding'\n",
    "outdir = '4.hierarchy'\n",
    "ppigen = CosineSimilarityPPIGenerator(embeddingdirs=[inputdir])\n",
    "\n",
    "refiner = HiDeFHierarchyRefiner()\n",
    "\n",
    "converter = HCXFromCDAPSCXHierarchy()\n",
    "\n",
    "hiergen = CDAPSHiDeFHierarchyGenerator(refiner=refiner,\n",
    "                                       hcxconverter=converter)\n",
    "\n",
    "x = CellmapsGenerateHierarchy(outdir=outdir,\n",
    "                              inputdirs=inputdir,\n",
    "                              ppigen=ppigen,\n",
    "                              hiergen=hiergen)\n",
    "x.run()"
   ]
  },
  {
   "cell_type": "markdown",
   "id": "fc258eb1-6925-43bd-8e2c-a4882c8bc39a",
   "metadata": {
    "tags": []
   },
   "source": [
    "#### Main Outputs\n",
    "\n",
    "* `hierarchy.cx2`:\n",
    "The main output file containing the generated hierarchy in HCX format.\n",
    "\n",
    "* `hierarchy_parent.cx2`:\n",
    "The parent or primary network used as a reference for generating the hierarchy in CX2 format.\n",
    "\n",
    "* `ppi_cutoff_*.cx`:\n",
    "Protein-Protein Interaction networks in CX format. Can be omitted.\n",
    "\n",
    "* `ppi_cutoff_*.id.edgelist.tsv`:\n",
    "Edgelist representation of the Protein-Protein Interaction networks.\n",
    "\n",
    "* `hidef_output.edges`:\n",
    "Contains the edges or interactions in the HiDeF generated hierarchy.\n",
    "\n",
    "```\n",
    "Cluster0-0  Cluster1-0      default\n",
    "Cluster0-0  Cluster1-1      default\n",
    "```\n",
    "\n",
    "* `hidef_output.nodes`:\n",
    "Contains the nodes or entities in the HiDeF generated hierarchy.\n",
    "\n",
    "```\n",
    "Cluster0-0  23      0 1 10 11 12 13 14 15 16 17 18 19 2 20 21 22 3 4 5 6 7 8 9      0\n",
    "Cluster1-0  7       0 1 10 20 4 5 6 119\n",
    "```\n",
    "\n",
    "* `hidef_output.pruned.edges`:\n",
    "Contains pruned edges after certain filtering (maturing) processes on the original hierarchy.\n",
    "\n",
    "```\n",
    "Cluster0-0  Cluster1-0      default\n",
    "Cluster0-0  Cluster1-1      default\n",
    "```\n",
    "\n",
    "* `hidef_output.pruned.nodes`:\n",
    "Contains pruned nodes after certain filtering (maturing) processes on the original hierarchy.\n",
    "\n",
    "```\n",
    "Cluster0-0  23      3 17 21 4 20 1 10 12 9 14 8 2 15 19 5 11 7 16 18 0 13 22 6      0\n",
    "Cluster1-0  7       20 1 5 4 10 0 6 119\n",
    "```\n",
    "\n",
    "* `hidef_output.weaver`:\n",
    "Information related to the weaving process used in generating the hierarchy."
   ]
  },
  {
   "cell_type": "markdown",
   "id": "0bfdaa40-dda8-4f18-9a63-c09ef7042e10",
   "metadata": {},
   "source": [
    "## Step 7: Annotate a hierarchy by performing enrichment against three NDEx networks HPA, CORUM, and GO-CC\n",
    "\n",
    "Detailed documentation available [here](https://cellmaps-hierarchyeval.readthedocs.io/)."
   ]
  },
  {
   "cell_type": "code",
   "execution_count": null,
   "id": "41156b04-6b33-4402-9892-5bbb1593f823",
   "metadata": {},
   "outputs": [],
   "source": [
    "from cellmaps_hierarchyeval.runner import CellmapshierarchyevalRunner\n",
    "\n",
    "inputdir = '4.hierarchy'\n",
    "outdir = '5.hierarchyeval'\n",
    "\n",
    "x = CellmapshierarchyevalRunner(outdir=outdir,\n",
    "                               hierarchy_dir=inputdir)\n",
    "x.run()"
   ]
  },
  {
   "cell_type": "markdown",
   "id": "7d6d5a21-e68d-4936-a74e-44847bcef757",
   "metadata": {
    "tags": []
   },
   "source": [
    "#### Main Outputs\n",
    "\n",
    "* `hierarchy.cx2`:\n",
    "This is the enriched hierarchy network file that integrates the results of the enrichment analysis into the hierarchy, formatted in CX2.\n",
    "\n",
    "* `hierarchy_parent.cx2`:\n",
    "The reference parent network from which the hierarchy was generated, formatted in CX2. Copy from input.\n",
    "\n",
    "* `hierarchy_node_attributes.tsv`:\n",
    "A TSV file containing attributes for each node, which includes information such as enriched terms, their descriptions, and related statistical data."
   ]
  },
  {
   "cell_type": "markdown",
   "id": "5fd78020-59de-4e06-b3b7-207cd3677049",
   "metadata": {},
   "source": [
    "## (Optional) Step 8: Upload hierarchy to NDEx\n",
    "\n",
    "Detailed documentation available [here](https://cellmaps-generate-hierarchy.readthedocs.io/en/latest/usage.html#uploading-hierarchy-to-ndex)."
   ]
  },
  {
   "cell_type": "code",
   "execution_count": null,
   "id": "5fff0fe1-9139-4c71-a357-4fb7edd437e7",
   "metadata": {},
   "outputs": [],
   "source": [
    "import os\n",
    "import ndex2\n",
    "from ndex2.cx2 import RawCX2NetworkFactory\n",
    "from cellmaps_generate_hierarchy.ndexupload import NDExHierarchyUploader\n",
    "\n",
    "#Specify NDEx server\n",
    "ndexserver = 'idekerlab.ndexbio.org'\n",
    "ndexuser = '<USER>'\n",
    "ndexpassword = '<PASSWORD>'\n",
    "\n",
    "# Load the hierarchy and parent network CX2 files into network objects\n",
    "factory = RawCX2NetworkFactory()\n",
    "hierarchy_network = factory.get_cx2network('5.hierarchyeval/hierarchy.cx2')\n",
    "parent_network = factory.get_cx2network('5.hierarchyeval/hierarchy_parent.cx2')\n",
    "\n",
    "# Initialize NDExHierarchyUploader with the specified NDEx server and credentials\n",
    "uploader = NDExHierarchyUploader(ndexserver, ndexuser, ndexpassword, visibility=True)\n",
    "\n",
    "# Upload the hierarchy and parent network to NDEx\n",
    "parent_uuid, parenturl, hierarchy_uuid, hierarchyurl = uploader.save_hierarchy_and_parent_network(hierarchy_network, parent_network)\n",
    "\n",
    "print(f\"Parent network UUID is {parent_uuid} and its URL in NDEx is {parenturl}\")\n",
    "print(f\"Hierarchy network UUID is {hierarchy_uuid} and its URL in NDEx is {hierarchyurl}\")"
   ]
  },
  {
   "cell_type": "code",
   "execution_count": null,
   "id": "2b9dc771-7498-4c5c-bb0f-89f996308a4f",
   "metadata": {},
   "outputs": [],
   "source": []
  }
 ],
 "metadata": {
  "kernelspec": {
   "display_name": "Python 3 (ipykernel)",
   "language": "python",
   "name": "python3"
  },
  "language_info": {
   "codemirror_mode": {
    "name": "ipython",
    "version": 3
   },
   "file_extension": ".py",
   "mimetype": "text/x-python",
   "name": "python",
   "nbconvert_exporter": "python",
   "pygments_lexer": "ipython3",
   "version": "3.8.18"
  }
 },
 "nbformat": 4,
 "nbformat_minor": 5
}
