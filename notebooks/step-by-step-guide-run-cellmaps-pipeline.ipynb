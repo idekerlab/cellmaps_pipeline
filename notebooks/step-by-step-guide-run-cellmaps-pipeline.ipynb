{
 "cells": [
  {
   "cell_type": "markdown",
   "id": "93c29ba2-a583-4195-b58e-bf6c026c1a76",
   "metadata": {},
   "source": [
    "# Step-by-step Guide: Running Cellmaps Pipeline"
   ]
  },
  {
   "cell_type": "markdown",
   "id": "d656a178-845c-40c6-94b7-c499872e5235",
   "metadata": {},
   "source": [
    "### Installation\n",
    "\n",
    "It is highly recommended to create conda virtual environment and run jupyter from there.\n",
    "\n",
    "`conda create -n cm4ai python=3.8`\n",
    "\n",
    "`conda activate cm4ai`\n",
    "\n",
    "To install Cellmaps Pipeline run:\n",
    "\n",
    "`pip install cellmaps_pipeline`"
   ]
  },
  {
   "cell_type": "markdown",
   "id": "76e8b137-2123-4278-8c8a-0e7f4afec635",
   "metadata": {
    "tags": []
   },
   "source": [
    "### Input Data\n",
    "\n",
    "The cell maps pipeline requires the following input files for building MuSIC maps by integrating IF images with an AP-MS interaction network:\n",
    "\n",
    "- samples file: CSV file with list of IF images to download (see sample samples file in examples folder)\n",
    "\n",
    "- unique file: CSV file of unique samples (see sample unique file in examples folder)\n",
    "\n",
    "- bait list file: TSV file of baits used for AP-MS experiments\n",
    "\n",
    "- edge list file: TSV file of edges for protein interaction network\n",
    "\n",
    "- provenance: file containing provenance information about input files in JSON format (see sample provenance file in examples folder, or create one directly as described above)"
   ]
  },
  {
   "cell_type": "markdown",
   "id": "aeac0728-059f-416b-935a-82e202696e92",
   "metadata": {
    "tags": []
   },
   "source": [
    "## Step 1: Download ImmunoFluorescent image data\n",
    "\n",
    "Detailed documentation available [here](https://cellmaps-imagedownloader.readthedocs.io/)."
   ]
  },
  {
   "cell_type": "code",
   "execution_count": null,
   "id": "a189ce07-23a9-49a6-9d23-0d9259ca2249",
   "metadata": {
    "tags": []
   },
   "outputs": [],
   "source": [
    "from cellmaps_imagedownloader.runner import CellmapsImageDownloader\n",
    "from cellmaps_imagedownloader.runner import MultiProcessImageDownloader\n",
    "from cellmaps_imagedownloader.gene import ImageGeneNodeAttributeGenerator as IGen \n",
    "from cellmaps_imagedownloader.proteinatlas import ProteinAtlasReader, ProteinAtlasImageUrlReader, ImageDownloadTupleGenerator\n",
    "import json\n",
    "\n",
    "u_list = IGen.get_unique_list_from_csvfile('../examples/unique.csv')\n",
    "s_list=IGen.get_samples_from_csvfile('../examples/samples.csv')\n",
    "with open('../examples/provenance.json', 'r') as f:\n",
    "    json_prov = json.load(f)\n",
    "\n",
    "imagegen = IGen(unique_list=u_list, samples_list=s_list)\n",
    "\n",
    "outdir='1.image_download'\n",
    "dloader = MultiProcessImageDownloader(poolsize=4)\n",
    "proteinatlas_reader = ProteinAtlasReader(outdir)\n",
    "proteinatlas_urlreader = ProteinAtlasImageUrlReader(reader=proteinatlas_reader)\n",
    "imageurlgen = ImageDownloadTupleGenerator(reader=proteinatlas_urlreader,\n",
    "                                          samples_list=imagegen.get_samples_list(),\n",
    "                                          valid_image_ids=imagegen.get_samples_list_image_ids())\n",
    "\n",
    "x = CellmapsImageDownloader(outdir=outdir, imagedownloader=dloader, imgsuffix='.jpg', imagegen=imagegen, \n",
    "                            imageurlgen=imageurlgen, provenance=json_prov)\n",
    "x.run()"
   ]
  },
  {
   "cell_type": "markdown",
   "id": "a19537b6-3d42-4e21-9519-083337026656",
   "metadata": {},
   "source": [
    "## Step 2: Download Affinity-Purification mass spectrometry (AP-MS) data as a Protein-Protein Interaction network\n",
    "\n",
    "Detailed documentation available [here](https://cellmaps-ppidownloader.readthedocs.io/)."
   ]
  },
  {
   "cell_type": "code",
   "execution_count": null,
   "id": "b8e08d64-09af-4a4b-bf68-22d620274a55",
   "metadata": {},
   "outputs": [],
   "source": [
    "from cellmaps_ppidownloader.runner import CellmapsPPIDownloader\n",
    "from cellmaps_ppidownloader.gene import APMSGeneNodeAttributeGenerator\n",
    "\n",
    "with open('../examples/provenance.json', 'r') as f:\n",
    "    json_prov = json.load(f)\n",
    "\n",
    "apmsgen = APMSGeneNodeAttributeGenerator(\n",
    "    apms_edgelist=APMSGeneNodeAttributeGenerator.get_apms_edgelist_from_tsvfile('../examples/edgelist.tsv'),\n",
    "    apms_baitlist=APMSGeneNodeAttributeGenerator.get_apms_baitlist_from_tsvfile('../examples/baitlist.tsv'))\n",
    "\n",
    "x = CellmapsPPIDownloader(outdir='2.ppi_download', apmsgen=apmsgen, provenance=json_prov, input_data_dict={})\n",
    "x.run()"
   ]
  },
  {
   "cell_type": "markdown",
   "id": "fbf4e5bf-2588-4694-ad19-2001cee6191a",
   "metadata": {},
   "source": [
    "## Step 3: Generate embeddings from ImmunoFluorescent image data\n",
    "\n",
    "Detailed documentation available [here](https://cellmaps-image-embedding.readthedocs.io/)."
   ]
  },
  {
   "cell_type": "code",
   "execution_count": null,
   "id": "ef99fbdf-16d1-47f6-8540-c7da2acdd0e1",
   "metadata": {},
   "outputs": [],
   "source": []
  },
  {
   "cell_type": "markdown",
   "id": "ab5f24bf-9495-4878-a128-f19bd1e45897",
   "metadata": {},
   "source": [
    "## Step 4: Generate embeddings from Protein-Protein interaction networks\n",
    "\n",
    "Detailed documentation available [here](https://cellmaps-ppi-embedding.readthedocs.io/)."
   ]
  },
  {
   "cell_type": "code",
   "execution_count": null,
   "id": "912abc12-e899-4052-919d-0b57dcbb9d77",
   "metadata": {},
   "outputs": [],
   "source": []
  },
  {
   "cell_type": "markdown",
   "id": "574ca651-593c-4cc1-842b-38dbd839c16e",
   "metadata": {},
   "source": [
    "## Step 5: Generate co-embedding from image and Protein-Protein Interaction (PPI) embeddings\n",
    "\n",
    "Detailed documentation available [here](https://cellmaps-coembedding.readthedocs.io/)."
   ]
  },
  {
   "cell_type": "code",
   "execution_count": null,
   "id": "b4e67f4c-362f-4a96-937e-ec8b9108175f",
   "metadata": {},
   "outputs": [],
   "source": []
  },
  {
   "cell_type": "markdown",
   "id": "35fd1ef1-da6b-47cf-8621-645a498fccf8",
   "metadata": {},
   "source": [
    "## Step 6: Generate hierarchy from coembeddings using HiDeF.\n",
    "\n",
    "Detailed documentation available [here](https://cellmaps-generate-hierarchy.readthedocs.io/)."
   ]
  },
  {
   "cell_type": "code",
   "execution_count": null,
   "id": "cd2687c5-5bbe-433f-a799-2e2a149a7023",
   "metadata": {},
   "outputs": [],
   "source": []
  },
  {
   "cell_type": "markdown",
   "id": "0bfdaa40-dda8-4f18-9a63-c09ef7042e10",
   "metadata": {},
   "source": [
    "## Step 7: Annotate a hierarchy by performing enrichment against three NDEx networks HPA, CORUM, and GO-CC\n",
    "\n",
    "Detailed documentation available [here](https://cellmaps-hierarchyeval.readthedocs.io/)."
   ]
  },
  {
   "cell_type": "code",
   "execution_count": null,
   "id": "41156b04-6b33-4402-9892-5bbb1593f823",
   "metadata": {},
   "outputs": [],
   "source": []
  }
 ],
 "metadata": {
  "kernelspec": {
   "display_name": "Python 3 (ipykernel)",
   "language": "python",
   "name": "python3"
  },
  "language_info": {
   "codemirror_mode": {
    "name": "ipython",
    "version": 3
   },
   "file_extension": ".py",
   "mimetype": "text/x-python",
   "name": "python",
   "nbconvert_exporter": "python",
   "pygments_lexer": "ipython3",
   "version": "3.8.18"
  }
 },
 "nbformat": 4,
 "nbformat_minor": 5
}
